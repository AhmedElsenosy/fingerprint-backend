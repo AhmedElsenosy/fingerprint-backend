{
 "cells": [
  {
   "cell_type": "code",
   "execution_count": 1,
   "id": "6bb3950c",
   "metadata": {},
   "outputs": [
    {
     "name": "stdout",
     "output_type": "stream",
     "text": [
      "+ UID #5\n",
      "  Name       : Shady\n",
      "  Privilege  : Admin\n",
      "  Password   : \n",
      "  Group ID   : \n",
      "  User  ID   : 55555\n",
      "+ UID #1000\n",
      "  Name       : Test_Student\n",
      "  Privilege  : User\n",
      "  Password   : \n",
      "  Group ID   : \n",
      "  User  ID   : test123\n",
      "+ UID #1001\n",
      "  Name       : Ahmed_Hassan\n",
      "  Privilege  : User\n",
      "  Password   : \n",
      "  Group ID   : \n",
      "  User  ID   : 1001\n",
      "+ UID #1002\n",
      "  Name       : Student_10000\n",
      "  Privilege  : User\n",
      "  Password   : \n",
      "  Group ID   : \n",
      "  User  ID   : 1002\n",
      "+ UID #1003\n",
      "  Name       : Student_10000\n",
      "  Privilege  : User\n",
      "  Password   : \n",
      "  Group ID   : \n",
      "  User  ID   : 1003\n",
      "+ UID #1004\n",
      "  Name       : Student_10000\n",
      "  Privilege  : User\n",
      "  Password   : \n",
      "  Group ID   : \n",
      "  User  ID   : 1004\n",
      "+ UID #1005\n",
      "  Name       : Student_10025\n",
      "  Privilege  : User\n",
      "  Password   : \n",
      "  Group ID   : \n",
      "  User  ID   : 1005\n",
      "+ UID #10010\n",
      "  Name       : Shady_Shady\n",
      "  Privilege  : User\n",
      "  Password   : \n",
      "  Group ID   : \n",
      "  User  ID   : 10010\n",
      "+ UID #10011\n",
      "  Name       : ahmed_ahmed\n",
      "  Privilege  : User\n",
      "  Password   : \n",
      "  Group ID   : \n",
      "  User  ID   : 10011\n",
      "+ UID #10019\n",
      "  Name       : Student_10019\n",
      "  Privilege  : User\n",
      "  Password   : \n",
      "  Group ID   : \n",
      "  User  ID   : 10019\n",
      "+ UID #10020\n",
      "  Name       : Student_10020\n",
      "  Privilege  : User\n",
      "  Password   : \n",
      "  Group ID   : \n",
      "  User  ID   : 10020\n",
      "+ UID #10021\n",
      "  Name       : Student_10021\n",
      "  Privilege  : User\n",
      "  Password   : \n",
      "  Group ID   : \n",
      "  User  ID   : 10021\n",
      "+ UID #10022\n",
      "  Name       : ahmed_mohamed\n",
      "  Privilege  : User\n",
      "  Password   : \n",
      "  Group ID   : \n",
      "  User  ID   : 10022\n",
      "+ UID #10023\n",
      "  Name       : Student_10023\n",
      "  Privilege  : User\n",
      "  Password   : \n",
      "  Group ID   : \n",
      "  User  ID   : 10023\n",
      "+ UID #10026\n",
      "  Name       : Student_10026\n",
      "  Privilege  : User\n",
      "  Password   : \n",
      "  Group ID   : \n",
      "  User  ID   : 10026\n"
     ]
    }
   ],
   "source": [
    "from zk import ZK, const\n",
    "\n",
    "conn = None\n",
    "# create ZK instance\n",
    "zk = ZK('192.168.1.201', port=4370, timeout=5, password=0, force_udp=False, ommit_ping=False)\n",
    "try:\n",
    "    # connect to device\n",
    "    conn = zk.connect()\n",
    "    # disable device, this method ensures no activity on the device while the process is run\n",
    "    conn.disable_device()\n",
    "    # another commands will be here!\n",
    "    # Example: Get All Users\n",
    "    users = conn.get_users()\n",
    "    for user in users:\n",
    "        privilege = 'User'\n",
    "        if user.privilege == const.USER_ADMIN:\n",
    "            privilege = 'Admin'\n",
    "        print ('+ UID #{}'.format(user.uid))\n",
    "        print ('  Name       : {}'.format(user.name))\n",
    "        print ('  Privilege  : {}'.format(privilege))\n",
    "        print ('  Password   : {}'.format(user.password))\n",
    "        print ('  Group ID   : {}'.format(user.group_id))\n",
    "        print ('  User  ID   : {}'.format(user.user_id))\n",
    "\n",
    "    # Test Voice: Say Thank You\n",
    "    conn.test_voice()\n",
    "    # re-enable device after all commands already executed\n",
    "    conn.enable_device()\n",
    "except Exception as e:\n",
    "    print (\"Process terminate : {}\".format(e))\n",
    "finally:\n",
    "    if conn:\n",
    "        conn.disconnect()"
   ]
  },
  {
   "cell_type": "code",
   "execution_count": 3,
   "id": "c03c8aea",
   "metadata": {},
   "outputs": [
    {
     "name": "stdout",
     "output_type": "stream",
     "text": [
      "<Attendance>: 10026 : 2025-07-15 12:21:05 (1, 0)\n",
      "<Attendance>: 10023 : 2025-07-15 12:21:17 (1, 0)\n",
      "<Attendance>: 10022 : 2025-07-15 12:21:21 (1, 0)\n",
      "<Attendance>: 1001 : 2025-07-15 12:21:35 (1, 0)\n"
     ]
    }
   ],
   "source": [
    "conn = zk.connect()\n",
    "\n",
    "# live capture! (timeout at 10s)\n",
    "for attendance in conn.live_capture():\n",
    "    if attendance is None:\n",
    "        # implement here timeout logic\n",
    "        pass\n",
    "    else:\n",
    "        print (attendance) # Attendance object\n",
    "\n",
    "    #if you need to break gracefully just set\n",
    "    #   conn.end_live_capture = True\n",
    "    #\n",
    "    # On interactive mode,\n",
    "    # use Ctrl+C to break gracefully\n",
    "    # this way it restores timeout\n",
    "    # and disables live capture"
   ]
  },
  {
   "cell_type": "code",
   "execution_count": 12,
   "id": "56534c2c",
   "metadata": {},
   "outputs": [],
   "source": [
    "# Get attendances (will return list of Attendance object)\n",
    "attendances = conn.get_attendance()"
   ]
  },
  {
   "cell_type": "code",
   "execution_count": null,
   "id": "79116aa3",
   "metadata": {},
   "outputs": [
    {
     "name": "stdout",
     "output_type": "stream",
     "text": [
      "ZK tcp://192.168.1.201:4370 users[72]:15/3000 fingers:13/3000, records:1/200000 faces:0/0\n"
     ]
    }
   ],
   "source": []
  },
  {
   "cell_type": "code",
   "execution_count": null,
   "id": "7952315d",
   "metadata": {},
   "outputs": [],
   "source": []
  }
 ],
 "metadata": {
  "kernelspec": {
   "display_name": "Python 3",
   "language": "python",
   "name": "python3"
  },
  "language_info": {
   "codemirror_mode": {
    "name": "ipython",
    "version": 3
   },
   "file_extension": ".py",
   "mimetype": "text/x-python",
   "name": "python",
   "nbconvert_exporter": "python",
   "pygments_lexer": "ipython3",
   "version": "3.10.12"
  }
 },
 "nbformat": 4,
 "nbformat_minor": 5
}
